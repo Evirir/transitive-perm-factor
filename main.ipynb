{
 "cells": [
  {
   "cell_type": "code",
   "execution_count": 3,
   "id": "25d95627",
   "metadata": {},
   "outputs": [],
   "source": [
    "import os\n",
    "import sys\n",
    "from typing import List, Tuple"
   ]
  },
  {
   "cell_type": "code",
   "execution_count": 4,
   "id": "7ca64c38",
   "metadata": {},
   "outputs": [
    {
     "ename": "NameError",
     "evalue": "name 'Permutation' is not defined",
     "output_type": "error",
     "traceback": [
      "\u001b[1;31m---------------------------------------------------------------------------\u001b[0m",
      "\u001b[1;31mNameError\u001b[0m                                 Traceback (most recent call last)",
      "Cell \u001b[1;32mIn[4], line 35\u001b[0m\n\u001b[0;32m     30\u001b[0m         p \u001b[39m=\u001b[39m p\u001b[39m.\u001b[39mleft_action_product(Permutation(factor))\n\u001b[0;32m     31\u001b[0m     \u001b[39mreturn\u001b[39;00m p\n\u001b[0;32m     34\u001b[0m \u001b[39mdef\u001b[39;00m \u001b[39mget_min_transitive_factorizations\u001b[39m(\n\u001b[1;32m---> 35\u001b[0m         target: Permutation,\n\u001b[0;32m     36\u001b[0m         allowed_pairs: FactorList) \u001b[39m-\u001b[39m\u001b[39m>\u001b[39m Tuple[\u001b[39mint\u001b[39m, List[FactorList]]:\n\u001b[0;32m     37\u001b[0m \u001b[39m    \u001b[39m\u001b[39m\"\"\"Find the list of minimal transitive factorizations of target using only the\u001b[39;00m\n\u001b[0;32m     38\u001b[0m \u001b[39m    transpositions in allowed_pairs.\u001b[39;00m\n\u001b[0;32m     39\u001b[0m \u001b[39m    target and allowed_pairs are 1-indexed.\u001b[39;00m\n\u001b[1;32m   (...)\u001b[0m\n\u001b[0;32m     42\u001b[0m \u001b[39m        Returns (0, []) instead if the given pairs do not connect [n].\u001b[39;00m\n\u001b[0;32m     43\u001b[0m \u001b[39m    \"\"\"\u001b[39;00m\n\u001b[0;32m     44\u001b[0m     n \u001b[39m=\u001b[39m target\u001b[39m.\u001b[39msize()  \u001b[39m# permutation size\u001b[39;00m\n",
      "\u001b[1;31mNameError\u001b[0m: name 'Permutation' is not defined"
     ]
    }
   ],
   "source": [
    "#Functions\n",
    "\n",
    "FactorList = List[Tuple[int, int]]\n",
    "\n",
    "def validate_pairs(n: int, allowed_pairs: FactorList):\n",
    "    \"\"\"Checks for invalid pairs, duplicate pairs (up to ordering), and self-loops.\"\"\"\n",
    "    elements = [u for pair in allowed_pairs for u in pair]\n",
    "    assert 1 <= min(elements) and max(elements) <= n\n",
    "    for (u, v) in allowed_pairs:\n",
    "        assert u != v, f\"Self-loop found: {(u, v)}\"\n",
    "    pairs = set([(min(u, v), max(u, v)) for (u, v) in allowed_pairs])\n",
    "    assert len(pairs) == len(allowed_pairs), \"Duplicate edge found.\"\n",
    "    \n",
    "\n",
    "def is_transitive(n, factors):\n",
    "    return Graph([list(range(1, n + 1)), factors]).is_connected()\n",
    "\n",
    "\n",
    "def change_index_start(target, allowed_pairs, start_index=1):\n",
    "    \"\"\"Reduce all numbers in target and allowed_pairs by start_index.\"\"\"\n",
    "    for index, ele in enumerate(target):\n",
    "        target[index] = ele - start_index\n",
    "    for index, (u, v) in enumerate(allowed_pairs):\n",
    "        allowed_pairs[index] = (u - start_index, v - start_index)\n",
    "\n",
    "\n",
    "def eval_factors(n: int, factors: FactorList):\n",
    "    p = Permutations(n).identity()\n",
    "    for factor in factors:\n",
    "        p = p.left_action_product(Permutation(factor))\n",
    "    return p\n",
    "\n",
    "\n",
    "def get_min_transitive_factorizations(\n",
    "        target: Permutation,\n",
    "        allowed_pairs: FactorList) -> Tuple[int, List[FactorList]]:\n",
    "    \"\"\"Find the list of minimal transitive factorizations of target using only the\n",
    "    transpositions in allowed_pairs.\n",
    "    target and allowed_pairs are 1-indexed.\n",
    "    Returns:\n",
    "        (min length, list of minimal transitive factorizations) (int, List[FactorList])\n",
    "        Returns (0, []) instead if the given pairs do not connect [n].\n",
    "    \"\"\"\n",
    "    n = target.size()  # permutation size\n",
    "\n",
    "    if not is_transitive(n, allowed_pairs):\n",
    "        return (0, [])\n",
    "\n",
    "    generator = RecursivelyEnumeratedSet(\n",
    "        [[]],\n",
    "        lambda fact: [fact + [x] for x in allowed_pairs],\n",
    "        structure='forest')\n",
    "    generator_it = generator.breadth_first_search_iterator()\n",
    "\n",
    "    min_length = -1  # -1 if not found yet\n",
    "    last_length = -1\n",
    "    factorizations = []\n",
    "    while True:\n",
    "        factors = next(generator_it)\n",
    "        if min_length != -1 and len(factors) > min_length:\n",
    "            break\n",
    "\n",
    "        if len(factors) > last_length:\n",
    "            last_length = len(factors)\n",
    "            print(f\"Trying factorization length {len(factors)}\")\n",
    "\n",
    "        if not is_transitive(n, factors) or not eval_factors(n, factors) == target:\n",
    "            continue\n",
    "        min_length = len(factors)\n",
    "        factorizations.append(factors)\n",
    "\n",
    "    return min_length, factorizations\n",
    "\n",
    "\n",
    "\n",
    "def main(target, allowed_pairs):\n",
    "    #target, allowed_pairs = read_file(filepath)\n",
    "    target = Permutation(target)\n",
    "    n = target.size()\n",
    "    validate_pairs(n, allowed_pairs)\n",
    "\n",
    "    print(\"-----------------------------\")\n",
    "    print(f\"target: {target}\")\n",
    "    print(f\"allowed_pairs: {allowed_pairs}\")\n",
    "\n",
    "    min_length, min_facts = get_min_transitive_factorizations(\n",
    "        target, allowed_pairs)\n",
    "    print(\"-----------------------------\")\n",
    "\n",
    "    if min_length == 0:\n",
    "        eprint(f\"Given transpositions do not connect [{len(target)}].\")\n",
    "    else:\n",
    "        print(f\"Min length: {min_length}\")\n",
    "        print(f\"Number of minimal transitive factorizations: {len(min_facts)}\")\n",
    "        for factors in min_facts:\n",
    "            print(' '.join([str(factor) for factor in factors]))\n",
    "\n"
   ]
  },
  {
   "cell_type": "code",
   "execution_count": null,
   "id": "25a823cf",
   "metadata": {},
   "outputs": [
    {
     "name": "stdout",
     "output_type": "stream",
     "text": [
      "-----------------------------\n",
      "target: [2, 1, 3]\n",
      "allowed_pairs: [(1, 2), (1, 3)]\n",
      "Trying factorization length 0\n",
      "Trying factorization length 1\n",
      "Trying factorization length 2\n",
      "Trying factorization length 3\n",
      "-----------------------------\n",
      "Min length: 3\n",
      "Number of minimal transitive factorizations: 2\n",
      "(1, 2) (1, 3) (1, 3)\n",
      "(1, 3) (1, 3) (1, 2)\n"
     ]
    }
   ],
   "source": [
    "#Try an example:\n",
    "\n",
    "test_target = [2, 1, 3]\n",
    "test_allowed_pairs = [(1,2), (1,3)]\n",
    "main(test_target, test_allowed_pairs)"
   ]
  },
  {
   "cell_type": "code",
   "execution_count": null,
   "id": "f87d77d3",
   "metadata": {},
   "outputs": [
    {
     "name": "stdout",
     "output_type": "stream",
     "text": [
      "-----------------------------\n",
      "target: [2, 4, 1, 3]\n",
      "allowed_pairs: [(1, 2), (1, 3), (1, 4)]\n",
      "Trying factorization length 0\n",
      "Trying factorization length 1\n",
      "Trying factorization length 2\n",
      "Trying factorization length 3\n",
      "-----------------------------\n",
      "Min length: 3\n",
      "Number of minimal transitive factorizations: 1\n",
      "(1, 3) (1, 4) (1, 2)\n"
     ]
    }
   ],
   "source": [
    "#Try an example:\n",
    "\n",
    "test_target = [2, 4, 1, 3]\n",
    "test_allowed_pairs = [(1,2), (1,3), (1,4)]\n",
    "main(test_target, test_allowed_pairs)"
   ]
  },
  {
   "cell_type": "code",
   "execution_count": null,
   "id": "fcb5dfa4",
   "metadata": {},
   "outputs": [],
   "source": []
  }
 ],
 "metadata": {
  "kernelspec": {
   "display_name": "Python 3",
   "language": "python",
   "name": "python3"
  },
  "language_info": {
   "codemirror_mode": {
    "name": "ipython",
    "version": 3
   },
   "file_extension": ".py",
   "mimetype": "text/x-python",
   "name": "python",
   "nbconvert_exporter": "python",
   "pygments_lexer": "ipython3",
   "version": "3.11.0"
  }
 },
 "nbformat": 4,
 "nbformat_minor": 5
}
