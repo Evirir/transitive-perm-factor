{
 "cells": [
  {
   "cell_type": "code",
   "execution_count": 37,
   "id": "25d95627",
   "metadata": {},
   "outputs": [],
   "source": [
    "import os\n",
    "import sys\n",
    "import copy\n",
    "from typing import List, Tuple, Dict\n",
    "from sage.graphs.connectivity import connected_components"
   ]
  },
  {
   "attachments": {},
   "cell_type": "markdown",
   "id": "c9d7679d",
   "metadata": {},
   "source": [
    "Util"
   ]
  },
  {
   "cell_type": "code",
   "execution_count": 38,
   "id": "5394d6f0",
   "metadata": {},
   "outputs": [
    {
     "data": {
      "text/plain": [
       "[1, 4, 3, 2]"
      ]
     },
     "execution_count": 38,
     "metadata": {},
     "output_type": "execute_result"
    }
   ],
   "source": [
    "def generate_transposition(n: int, u: int, v: int) -> Permutation:\n",
    "    action = list(range(1, n + 1))\n",
    "    action[u - 1] = v\n",
    "    action[v - 1] = u\n",
    "    return Permutation(action)\n",
    "\n",
    "generate_transposition(4, 2, 4)  # [1, 4, 3, 2]"
   ]
  },
  {
   "attachments": {},
   "cell_type": "markdown",
   "id": "1c0c2bee",
   "metadata": {},
   "source": [
    "Input verification"
   ]
  },
  {
   "cell_type": "code",
   "execution_count": 121,
   "id": "b7d235f5",
   "metadata": {},
   "outputs": [],
   "source": [
    "def validate_edges(n: int, allowed_pairs: List[Tuple[int, int]]):\n",
    "    \"\"\"Checks for invalid edges, duplicate edges (up to ordering), and self-loops.\"\"\"\n",
    "    elements = [u for pair in allowed_pairs for u in pair]\n",
    "    assert 1 <= min(elements) and max(elements) <= n\n",
    "    for (u, v) in allowed_pairs:\n",
    "        assert u != v, f\"Self-loop found: {(u, v)}\"\n",
    "    pairs = set([(min(u, v), max(u, v)) for (u, v) in allowed_pairs])\n",
    "    assert len(pairs) == len(allowed_pairs), \"Duplicate edge found.\"\n",
    "    assert Graph([list(range(1, n + 1)), factors]).is_connected()"
   ]
  },
  {
   "attachments": {},
   "cell_type": "markdown",
   "id": "3aae2911",
   "metadata": {},
   "source": [
    "CC = connected component\n",
    "\n",
    "`dp[rank of permutation, CC's] = (min length, number of factorizations with such length)`"
   ]
  },
  {
   "cell_type": "code",
   "execution_count": 125,
   "id": "88769628",
   "metadata": {},
   "outputs": [],
   "source": [
    "def merge_cc(cc_list, cc1, cc2):\n",
    "    print(f\"merge_cc: {cc_list}, {cc1}, {cc2}\")\n",
    "    if cc1 == cc2:\n",
    "        return cc_list\n",
    "    new_cc_list = list(cc_list)\n",
    "    new_cc_list.remove(cc1)\n",
    "    new_cc_list.remove(cc2)\n",
    "    new_cc = sorted(cc1 + cc2)\n",
    "    new_cc_list.append(new_cc)\n",
    "    return new_cc_list\n",
    "\n",
    "\n",
    "def compute_dp(n: int,\n",
    "               dp: Dict[int, List[List[int]]],\n",
    "               rank: int,\n",
    "               cc_list: List[List[int]]) -> Tuple[int, int]:\n",
    "    print(f\"compute_dp(rank={rank}, cc_list={cc_list})\")\n",
    "    if rank == 0 and len(cc_list) == 1:\n",
    "        return (0, 1)\n",
    "\n",
    "    cc_list = tuple(map(tuple, cc_list))\n",
    "    if (rank, cc_list) in dp:\n",
    "        return dp[(rank, cc_list)]\n",
    "\n",
    "    perm = Permutations(n).unrank(rank)\n",
    "\n",
    "    cur_min_length = -1\n",
    "    cur_count = 0\n",
    "\n",
    "    # Try all transpositions\n",
    "    for (cc1, cc2) in cartesian_product((cc_list, cc_list)):\n",
    "        # Get new cc list\n",
    "        new_cc_list = merge_cc(cc_list, cc1, cc2)\n",
    "        print(f\"new_cc_list: {new_cc_list}\")\n",
    "\n",
    "        for (u, v) in cartesian_product((cc1, cc2)):\n",
    "            print(f\"u={u}, v={v}\")\n",
    "            if u == v:\n",
    "                continue\n",
    "\n",
    "            # Get new rank\n",
    "            action = generate_transposition(n, u, v)\n",
    "            new_perm = Permutation(perm).right_action_product(action)\n",
    "            new_rank = Permutations(n).rank(new_perm)\n",
    "\n",
    "            # Update DP\n",
    "            next_dp = compute_dp(n, dp, new_rank, new_cc_list)\n",
    "            if cur_min_length == -1 or next_dp[0] < cur_min_length:\n",
    "                cur_min_length, cur_count = next_dp\n",
    "            elif next_dp[0] == cur_min_length:\n",
    "                cur_count += next_dp[1]\n",
    "\n",
    "    dp[(rank, cc_list)] = (cur_min_length + 1, cur_count)\n",
    "    return (cur_min_length, cur_count)"
   ]
  },
  {
   "attachments": {},
   "cell_type": "markdown",
   "id": "194ffaf6",
   "metadata": {},
   "source": [
    "`compute_length_n(n)`: Returns a map from permutation rank to (min length of factorization, number of such factorizations). Keys are ranks of permutations of length n."
   ]
  },
  {
   "cell_type": "code",
   "execution_count": 126,
   "id": "1710e71f",
   "metadata": {},
   "outputs": [],
   "source": [
    "def compute_length_n(n: int, allowed_edges: List[Tuple[int, int]]):\n",
    "    starting_cc_list = [[i] for i in range(1, n + 1)]\n",
    "    starting_cc_tuple = tuple(map(tuple, starting_cc_list))\n",
    "    target_cc_tuple = (tuple(range(1, n + 1)),)\n",
    "\n",
    "    dp = {(0, target_cc_tuple): (0, 1)}\n",
    "    perm_n = Permutations(n)\n",
    "    for rank in range(factorial(n)):\n",
    "        print(f\"---- rank: {rank}, perm = {perm_n.unrank(rank)} ----\")\n",
    "        compute_dp(n, dp, rank, starting_cc_list)\n",
    "        print()\n",
    "    print(f\"dp: {dp}\")\n",
    "    result = {rank: dp[(rank, starting_cc_tuple)] for rank in range(factorial(n))}\n",
    "    return result"
   ]
  },
  {
   "cell_type": "code",
   "execution_count": 127,
   "id": "e48fab7e",
   "metadata": {},
   "outputs": [
    {
     "name": "stdout",
     "output_type": "stream",
     "text": [
      "---- rank: 0, perm = [1, 2] ----\n",
      "compute_dp(rank=0, cc_list=[[1], [2]])\n",
      "merge_cc: ((1,), (2,)), (1,), (1,)\n",
      "new_cc_list: ((1,), (2,))\n",
      "u=1, v=1\n",
      "merge_cc: ((1,), (2,)), (1,), (2,)\n",
      "new_cc_list: [[1, 2]]\n",
      "u=1, v=2\n",
      "compute_dp(rank=1, cc_list=[[1, 2]])\n",
      "merge_cc: ((1, 2),), (1, 2), (1, 2)\n",
      "new_cc_list: ((1, 2),)\n",
      "u=1, v=1\n",
      "u=1, v=2\n",
      "compute_dp(rank=0, cc_list=((1, 2),))\n",
      "u=2, v=1\n",
      "compute_dp(rank=0, cc_list=((1, 2),))\n",
      "u=2, v=2\n",
      "merge_cc: ((1,), (2,)), (2,), (1,)\n",
      "new_cc_list: [[1, 2]]\n",
      "u=2, v=1\n",
      "compute_dp(rank=1, cc_list=[[1, 2]])\n",
      "merge_cc: ((1,), (2,)), (2,), (2,)\n",
      "new_cc_list: ((1,), (2,))\n",
      "u=2, v=2\n",
      "\n",
      "---- rank: 1, perm = [2, 1] ----\n",
      "compute_dp(rank=1, cc_list=[[1], [2]])\n",
      "merge_cc: ((1,), (2,)), (1,), (1,)\n",
      "new_cc_list: ((1,), (2,))\n",
      "u=1, v=1\n",
      "merge_cc: ((1,), (2,)), (1,), (2,)\n",
      "new_cc_list: [[1, 2]]\n",
      "u=1, v=2\n",
      "compute_dp(rank=0, cc_list=[[1, 2]])\n",
      "merge_cc: ((1,), (2,)), (2,), (1,)\n",
      "new_cc_list: [[1, 2]]\n",
      "u=2, v=1\n",
      "compute_dp(rank=0, cc_list=[[1, 2]])\n",
      "merge_cc: ((1,), (2,)), (2,), (2,)\n",
      "new_cc_list: ((1,), (2,))\n",
      "u=2, v=2\n",
      "\n",
      "dp: {(0, ((1, 2),)): (0, 1), (1, ((1, 2),)): (1, 2), (0, ((1,), (2,))): (1, 2), (1, ((1,), (2,))): (1, 2)}\n",
      "[1, 2]: min_len = 1, count = 2\n",
      "[2, 1]: min_len = 1, count = 2\n"
     ]
    }
   ],
   "source": [
    "n = 2\n",
    "allowed_edges = [(1, 2)]\n",
    "\n",
    "results = compute_length_n(n, allowed_edges)\n",
    "perm_n = Permutations(n)\n",
    "for rank in range(factorial(n)):\n",
    "    min_length, count = results[rank]\n",
    "    perm = perm_n.unrank(rank)\n",
    "    print(f\"{perm}: min_len = {min_length}, count = {count}\")"
   ]
  },
  {
   "cell_type": "code",
   "execution_count": 2,
   "id": "7ca64c38",
   "metadata": {},
   "outputs": [],
   "source": [
    "#Functions\n",
    "\n",
    "FactorList = List[Tuple[int, int]]\n",
    "\n",
    "def validate_pairs(n: int, allowed_pairs: FactorList):\n",
    "    \"\"\"Checks for invalid pairs, duplicate pairs (up to ordering), and self-loops.\"\"\"\n",
    "    elements = [u for pair in allowed_pairs for u in pair]\n",
    "    assert 1 <= min(elements) and max(elements) <= n\n",
    "    for (u, v) in allowed_pairs:\n",
    "        assert u != v, f\"Self-loop found: {(u, v)}\"\n",
    "    pairs = set([(min(u, v), max(u, v)) for (u, v) in allowed_pairs])\n",
    "    assert len(pairs) == len(allowed_pairs), \"Duplicate edge found.\"\n",
    "\n",
    "\n",
    "def is_transitive(n, factors):\n",
    "    return Graph([list(range(1, n + 1)), factors]).is_connected()\n",
    "\n",
    "\n",
    "def change_index_start(target, allowed_pairs, start_index=1):\n",
    "    \"\"\"Reduce all numbers in target and allowed_pairs by start_index.\"\"\"\n",
    "    for index, ele in enumerate(target):\n",
    "        target[index] = ele - start_index\n",
    "    for index, (u, v) in enumerate(allowed_pairs):\n",
    "        allowed_pairs[index] = (u - start_index, v - start_index)\n",
    "\n",
    "\n",
    "def eval_factors(n: int, factors: FactorList):\n",
    "    p = Permutations(n).identity()\n",
    "    for factor in factors:\n",
    "        p = p.left_action_product(Permutation(factor))\n",
    "    return p\n",
    "\n",
    "\n",
    "def get_min_transitive_factorizations(\n",
    "        target: Permutation,\n",
    "        allowed_pairs: FactorList) -> Tuple[int, List[FactorList]]:\n",
    "    \"\"\"Find the list of minimal transitive factorizations of target using only the\n",
    "    transpositions in allowed_pairs.\n",
    "    target and allowed_pairs are 1-indexed.\n",
    "    Returns:\n",
    "        (min length, list of minimal transitive factorizations) (int, List[FactorList])\n",
    "        Returns (0, []) instead if the given pairs do not connect [n].\n",
    "    \"\"\"\n",
    "    n = target.size()  # permutation size\n",
    "\n",
    "    if not is_transitive(n, allowed_pairs):\n",
    "        return (0, [])\n",
    "\n",
    "    generator = RecursivelyEnumeratedSet(\n",
    "        [[]],\n",
    "        lambda fact: [fact + [x] for x in allowed_pairs],\n",
    "        structure='forest')\n",
    "    generator_it = generator.breadth_first_search_iterator()\n",
    "\n",
    "    min_length = -1  # -1 if not found yet\n",
    "    last_length = -1\n",
    "    factorizations = []\n",
    "    while True:\n",
    "        factors = next(generator_it)\n",
    "        if min_length != -1 and len(factors) > min_length:\n",
    "            break\n",
    "\n",
    "        if len(factors) > last_length:\n",
    "            last_length = len(factors)\n",
    "            print(f\"Trying factorization length {len(factors)}\")\n",
    "\n",
    "        if not is_transitive(n, factors) or not eval_factors(n, factors) == target:\n",
    "            continue\n",
    "        min_length = len(factors)\n",
    "        factorizations.append(factors)\n",
    "\n",
    "    return min_length, factorizations\n",
    "\n",
    "\n",
    "\n",
    "def main(target, allowed_pairs):\n",
    "    #target, allowed_pairs = read_file(filepath)\n",
    "    target = Permutation(target)\n",
    "    n = target.size()\n",
    "    validate_pairs(n, allowed_pairs)\n",
    "\n",
    "    print(\"-----------------------------\")\n",
    "    print(f\"target: {target}\")\n",
    "    print(f\"allowed_pairs: {allowed_pairs}\")\n",
    "\n",
    "    min_length, min_facts = get_min_transitive_factorizations(\n",
    "        target, allowed_pairs)\n",
    "    print(\"-----------------------------\")\n",
    "\n",
    "    if min_length == 0:\n",
    "        eprint(f\"Given transpositions do not connect [{len(target)}].\")\n",
    "    else:\n",
    "        print(f\"Min length: {min_length}\")\n",
    "        print(f\"Number of minimal transitive factorizations: {len(min_facts)}\")\n",
    "        for factors in min_facts:\n",
    "            print(' '.join([str(factor) for factor in factors]))\n",
    "\n"
   ]
  },
  {
   "cell_type": "code",
   "execution_count": null,
   "id": "25a823cf",
   "metadata": {},
   "outputs": [],
   "source": [
    "#Try an example:\n",
    "\n",
    "test_target = [2, 1, 3]\n",
    "test_allowed_pairs = [(1,2), (1,3)]\n",
    "main(test_target, test_allowed_pairs)"
   ]
  },
  {
   "cell_type": "code",
   "execution_count": 4,
   "id": "f87d77d3",
   "metadata": {},
   "outputs": [
    {
     "name": "stdout",
     "output_type": "stream",
     "text": [
      "-----------------------------\n",
      "target: [2, 4, 1, 3]\n",
      "allowed_pairs: [(1, 2), (1, 3), (1, 4)]\n",
      "Trying factorization length 0\n",
      "Trying factorization length 1\n",
      "Trying factorization length 2\n",
      "Trying factorization length 3\n",
      "-----------------------------\n",
      "Min length: 3\n",
      "Number of minimal transitive factorizations: 1\n",
      "(1, 3) (1, 4) (1, 2)\n"
     ]
    }
   ],
   "source": [
    "#Try an example:\n",
    "\n",
    "test_target = [2, 4, 1, 3]\n",
    "test_allowed_pairs = [(1,2), (1,3), (1,4)]\n",
    "main(test_target, test_allowed_pairs)"
   ]
  },
  {
   "cell_type": "code",
   "execution_count": null,
   "id": "fcb5dfa4",
   "metadata": {},
   "outputs": [],
   "source": []
  }
 ],
 "metadata": {
  "kernelspec": {
   "display_name": "SageMath 9.5",
   "language": "sage",
   "name": "sagemath"
  },
  "language_info": {
   "codemirror_mode": {
    "name": "ipython",
    "version": 3
   },
   "file_extension": ".py",
   "mimetype": "text/x-python",
   "name": "python",
   "nbconvert_exporter": "python",
   "pygments_lexer": "ipython3",
   "version": "3.10.6"
  }
 },
 "nbformat": 4,
 "nbformat_minor": 5
}
