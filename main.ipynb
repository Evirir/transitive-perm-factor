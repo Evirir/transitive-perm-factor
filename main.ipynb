{
 "cells": [
  {
   "cell_type": "code",
   "execution_count": 41,
   "id": "25d95627",
   "metadata": {},
   "outputs": [],
   "source": [
    "import os\n",
    "import sys\n",
    "import copy\n",
    "from typing import List, Tuple, Dict\n",
    "from sage.graphs.connectivity import connected_components"
   ]
  },
  {
   "attachments": {},
   "cell_type": "markdown",
   "id": "c9d7679d",
   "metadata": {},
   "source": [
    "Util"
   ]
  },
  {
   "cell_type": "code",
   "execution_count": 42,
   "id": "5394d6f0",
   "metadata": {},
   "outputs": [
    {
     "data": {
      "text/plain": [
       "[1, 4, 3, 2]"
      ]
     },
     "execution_count": 42,
     "metadata": {},
     "output_type": "execute_result"
    }
   ],
   "source": [
    "def generate_transposition(n: int, u: int, v: int) -> Permutation:\n",
    "    action = list(range(1, n + 1))\n",
    "    action[u - 1] = v\n",
    "    action[v - 1] = u\n",
    "    return Permutation(action)\n",
    "\n",
    "generate_transposition(4, 2, 4)  # [1, 4, 3, 2]"
   ]
  },
  {
   "attachments": {},
   "cell_type": "markdown",
   "id": "1c0c2bee",
   "metadata": {},
   "source": [
    "Input verification"
   ]
  },
  {
   "cell_type": "code",
   "execution_count": 43,
   "id": "b7d235f5",
   "metadata": {},
   "outputs": [],
   "source": [
    "def validate_edges(n: int, allowed_pairs: List[Tuple[int, int]]):\n",
    "    \"\"\"Checks for invalid edges, duplicate edges (up to ordering), and self-loops.\"\"\"\n",
    "    elements = [u for pair in allowed_pairs for u in pair]\n",
    "    if not (1 <= min(elements) and max(elements) <= n):\n",
    "        print(\"Element out of range\")\n",
    "        return False\n",
    "\n",
    "    for (u, v) in allowed_pairs:\n",
    "        if u == v:\n",
    "            print(f\"Self-loop found: {(u, v)}\")\n",
    "            return False\n",
    "\n",
    "    pairs = set([(min(u, v), max(u, v)) for (u, v) in allowed_pairs])\n",
    "    if len(pairs) != len(allowed_pairs):\n",
    "        print(\"Duplicate edge found.\")\n",
    "        return False\n",
    "\n",
    "    if not Graph([list(range(1, n + 1)), allowed_pairs]).is_connected():\n",
    "        print(\"Graph is not connected\")\n",
    "        return False\n",
    "\n",
    "    return True"
   ]
  },
  {
   "attachments": {},
   "cell_type": "markdown",
   "id": "3aae2911",
   "metadata": {},
   "source": [
    "CC = connected component\n",
    "\n",
    "`dp[rank of permutation, CC's] = (min length, number of factorizations with such length)`"
   ]
  },
  {
   "cell_type": "code",
   "execution_count": 53,
   "id": "88769628",
   "metadata": {},
   "outputs": [],
   "source": [
    "Edge = Tuple[int, int]\n",
    "\n",
    "def merge_cc(cc_list, u: int, v: int):\n",
    "    cc_u = [cc for cc in cc_list if u in cc]\n",
    "    cc_v = [cc for cc in cc_list if v in cc]\n",
    "    assert len(cc_u) == 1 and len(cc_v) == 1\n",
    "    cc_u = cc_u[0]\n",
    "    cc_v = cc_v[0]\n",
    "    \n",
    "    if cc_u == cc_v:\n",
    "        return list(map(list, cc_list))\n",
    "    new_cc_list = list(cc_list)\n",
    "    new_cc_list.remove(cc_u)\n",
    "    new_cc_list.remove(cc_v)\n",
    "    new_cc = sorted(cc_u + cc_v)\n",
    "    new_cc_list.append(new_cc)\n",
    "    return new_cc_list\n",
    "\n",
    "\n",
    "def compute_dp(n: int,\n",
    "               allowed_edges: List[Tuple[int, int]],\n",
    "               dp: Dict[int, List[List[int]]],\n",
    "               rank: int,\n",
    "               cc_list: List[List[int]]) -> Tuple[int, int]:\n",
    "    cc_list = tuple(map(tuple, cc_list))\n",
    "    if (rank, cc_list) in dp:\n",
    "        return dp[(rank, cc_list)]\n",
    "\n",
    "    if rank == 0 and len(cc_list) == 1:\n",
    "        dp[(rank, cc_list)] = (0, 1)\n",
    "        return dp[(rank, cc_list)]\n",
    "\n",
    "    dp[(rank, cc_list)] = None\n",
    "    perm = Permutations(n).unrank(rank)\n",
    "\n",
    "    cur_min_length = -1\n",
    "    cur_count = 0\n",
    "\n",
    "    # Try all transpositions\n",
    "    for (u, v) in allowed_edges:\n",
    "        # Get new rank\n",
    "        action = generate_transposition(n, u, v)\n",
    "        new_perm = Permutation(perm).right_action_product(action)\n",
    "        new_rank = Permutations(n).rank(new_perm)\n",
    "\n",
    "        # Get new cc list\n",
    "        new_cc_list = merge_cc(cc_list, u, v)\n",
    "\n",
    "        # Update DP\n",
    "        next_dp = compute_dp(n, allowed_edges, dp, new_rank, new_cc_list)\n",
    "        if next_dp is None:\n",
    "            continue\n",
    "        if cur_min_length == -1 or next_dp[0] < cur_min_length:\n",
    "            cur_min_length, cur_count = next_dp\n",
    "        elif next_dp[0] == cur_min_length:\n",
    "            cur_count += next_dp[1]\n",
    "\n",
    "    dp[(rank, cc_list)] = (cur_min_length + 1, cur_count)\n",
    "    return dp[(rank, cc_list)]"
   ]
  },
  {
   "attachments": {},
   "cell_type": "markdown",
   "id": "194ffaf6",
   "metadata": {},
   "source": [
    "`compute_length_n(n)`: Returns a map from permutation rank to (min length of factorization, number of such factorizations). Keys are ranks of permutations of length n."
   ]
  },
  {
   "cell_type": "code",
   "execution_count": 54,
   "id": "1710e71f",
   "metadata": {},
   "outputs": [],
   "source": [
    "def compute_length_n(n: int, allowed_edges: List[Tuple[int, int]]):\n",
    "    starting_cc_list = [[i] for i in range(1, n + 1)]\n",
    "    starting_cc_tuple = tuple(map(tuple, starting_cc_list))\n",
    "\n",
    "    dp = {}\n",
    "    perm_n = Permutations(n)\n",
    "    for rank in range(factorial(n)):\n",
    "        perm = perm_n.unrank(rank)\n",
    "        compute_dp(n, allowed_edges, dp, rank, starting_cc_list)\n",
    "        min_length, count = dp[(rank, starting_cc_tuple)]\n",
    "        print(f\"{rank}: {perm}: min_len = {min_length}, count = {count}\")\n",
    "    result = {rank: dp[(rank, starting_cc_tuple)] for rank in range(factorial(n))}\n",
    "    return result"
   ]
  },
  {
   "cell_type": "code",
   "execution_count": 55,
   "id": "e48fab7e",
   "metadata": {},
   "outputs": [],
   "source": [
    "def main(n: int, allowed_edges: List[Tuple[int, int]]):\n",
    "    if not validate_edges(n, allowed_edges):\n",
    "        return\n",
    "    results = compute_length_n(n, allowed_edges)\n",
    "    return results"
   ]
  },
  {
   "cell_type": "code",
   "execution_count": 62,
   "id": "f87d77d3",
   "metadata": {},
   "outputs": [
    {
     "name": "stdout",
     "output_type": "stream",
     "text": [
      "Duplicate edge found.\n"
     ]
    }
   ],
   "source": [
    "n = 4\n",
    "test_allowed_pairs = [(1, 2), (1, 3), (1, 4)]\n",
    "main(n, test_allowed_pairs)"
   ]
  }
 ],
 "metadata": {
  "kernelspec": {
   "display_name": "SageMath 9.5",
   "language": "sage",
   "name": "sagemath"
  },
  "language_info": {
   "codemirror_mode": {
    "name": "ipython",
    "version": 3
   },
   "file_extension": ".py",
   "mimetype": "text/x-python",
   "name": "python",
   "nbconvert_exporter": "python",
   "pygments_lexer": "ipython3",
   "version": "3.10.6"
  }
 },
 "nbformat": 4,
 "nbformat_minor": 5
}
