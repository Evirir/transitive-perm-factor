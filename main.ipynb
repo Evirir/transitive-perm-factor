{
 "cells": [
  {
   "cell_type": "code",
   "execution_count": 36,
   "id": "25d95627",
   "metadata": {},
   "outputs": [],
   "source": [
    "import os\n",
    "import sys\n",
    "import copy\n",
    "from queue import SimpleQueue\n",
    "from typing import List, Tuple, Dict\n",
    "from sage.graphs.connectivity import connected_components"
   ]
  },
  {
   "attachments": {},
   "cell_type": "markdown",
   "id": "c9d7679d",
   "metadata": {},
   "source": [
    "Util"
   ]
  },
  {
   "cell_type": "code",
   "execution_count": 37,
   "id": "5394d6f0",
   "metadata": {},
   "outputs": [
    {
     "data": {
      "text/plain": [
       "[1, 4, 3, 2]"
      ]
     },
     "execution_count": 37,
     "metadata": {},
     "output_type": "execute_result"
    }
   ],
   "source": [
    "def generate_transposition(n: int, u: int, v: int) -> Permutation:\n",
    "    action = list(range(1, n + 1))\n",
    "    action[u - 1] = v\n",
    "    action[v - 1] = u\n",
    "    return Permutation(action)\n",
    "\n",
    "generate_transposition(4, 2, 4)  # [1, 4, 3, 2]"
   ]
  },
  {
   "cell_type": "code",
   "execution_count": 38,
   "id": "25566905",
   "metadata": {},
   "outputs": [],
   "source": [
    "indent = 0\n",
    "\n",
    "\n",
    "def iprint(s: str, pre: int = 0, post: int = 0):\n",
    "    global indent\n",
    "    indent += pre\n",
    "    print(\"    \" * indent + s)\n",
    "    indent += post"
   ]
  },
  {
   "attachments": {},
   "cell_type": "markdown",
   "id": "1c0c2bee",
   "metadata": {},
   "source": [
    "Input verification"
   ]
  },
  {
   "cell_type": "code",
   "execution_count": 39,
   "id": "b7d235f5",
   "metadata": {},
   "outputs": [],
   "source": [
    "def validate_edges(n: int, allowed_pairs: Tuple[Tuple[int, int], ...]):\n",
    "    \"\"\"Checks for invalid edges, duplicate edges (up to ordering), and self-loops.\"\"\"\n",
    "    elements = [u for pair in allowed_pairs for u in pair]\n",
    "    if not (1 <= min(elements) and max(elements) <= n):\n",
    "        print(\"Element out of range\")\n",
    "        return False\n",
    "\n",
    "    for (u, v) in allowed_pairs:\n",
    "        if u == v:\n",
    "            print(f\"Self-loop found: {(u, v)}\")\n",
    "            return False\n",
    "\n",
    "    pairs = set([(min(u, v), max(u, v)) for (u, v) in allowed_pairs])\n",
    "    if len(pairs) != len(allowed_pairs):\n",
    "        iprint(\"Duplicate edge found.\")\n",
    "        return False\n",
    "\n",
    "    if not Graph([list(range(1, n + 1)), list(allowed_pairs)]).is_connected():\n",
    "        print(\"Graph is not connected\")\n",
    "        return False\n",
    "\n",
    "    return True"
   ]
  },
  {
   "attachments": {},
   "cell_type": "markdown",
   "id": "3aae2911",
   "metadata": {},
   "source": [
    "CC = connected component\n",
    "\n",
    "`dp[rank of permutation, CC's] = (min length, number of factorizations with such length)`"
   ]
  },
  {
   "cell_type": "code",
   "execution_count": 58,
   "id": "88769628",
   "metadata": {},
   "outputs": [],
   "source": [
    "Edge = Tuple[int, int]\n",
    "State = Tuple[int, Tuple[Tuple[int, ...], ...]]\n",
    "\n",
    "def merge_cc(cc_list, u: int, v: int):\n",
    "    cc_u = [cc for cc in cc_list if u in cc]\n",
    "    cc_v = [cc for cc in cc_list if v in cc]\n",
    "    assert len(cc_u) == 1 and len(cc_v) == 1\n",
    "    cc_u = cc_u[0]\n",
    "    cc_v = cc_v[0]\n",
    "    \n",
    "    if cc_u == cc_v:\n",
    "        return cc_list\n",
    "    new_cc_list = list(cc_list)\n",
    "    new_cc_list.remove(cc_u)\n",
    "    new_cc_list.remove(cc_v)\n",
    "    new_cc = tuple(sorted(cc_u + cc_v))\n",
    "    new_cc_list.append(new_cc)\n",
    "    new_cc_list.sort()\n",
    "    return tuple(map(tuple, new_cc_list))\n",
    "\n",
    "\n",
    "def get_next_states(n, allowed_edges, state):\n",
    "    next_states = []\n",
    "    rank, cc_list = state\n",
    "    perm = Permutations(n).unrank(rank)\n",
    "    for (u, v) in allowed_edges:\n",
    "        action = generate_transposition(n, u, v)\n",
    "        new_perm = Permutation(perm).left_action_product(action)\n",
    "        new_cc = merge_cc(cc_list, u, v)\n",
    "        next_states.append((new_perm.rank(), new_cc))\n",
    "    return next_states\n",
    "\n",
    "\n",
    "def compute_dp(n: int, allowed_edges: List[Edge]) -> Dict[State, Tuple[int, int]]:\n",
    "    completed_perms = set()\n",
    "    base_case = (0, tuple((i,) for i in range(1, n + 1)))\n",
    "    dp = {base_case: (0, 1)}\n",
    "    queue = SimpleQueue()\n",
    "    queue.put(base_case)\n",
    "    \n",
    "    while True:\n",
    "        assert not queue.empty()\n",
    "        state = queue.get()\n",
    "        rank, cc_list = state\n",
    "        perm = Permutations(n).unrank(rank)\n",
    "        min_length, count = dp[state]\n",
    "\n",
    "        next_states = get_next_states(n, allowed_edges, state)\n",
    "        for ns in next_states:\n",
    "            if ns not in dp:\n",
    "                dp[ns] = (min_length + 1, count)\n",
    "                queue.put(ns)\n",
    "            else:\n",
    "                next_min_length = dp[ns][0]\n",
    "                assert next_min_length <= min_length + 1\n",
    "                if next_min_length == min_length + 1:\n",
    "                    dp[ns] = (dp[ns][0], dp[ns][1] + count)\n",
    "        \n",
    "        if len(cc_list) == 1:\n",
    "            completed_perms.add(perm)\n",
    "\n",
    "        # Check that we can terminate\n",
    "        if len(completed_perms) == factorial(n):\n",
    "            break\n",
    "    \n",
    "    return dp\n"
   ]
  },
  {
   "attachments": {},
   "cell_type": "markdown",
   "id": "194ffaf6",
   "metadata": {},
   "source": [
    "`compute_length_n(n)`: Returns a map from permutations (a list of n ints) to (min length of factorization, number of such factorizations)."
   ]
  },
  {
   "cell_type": "code",
   "execution_count": 71,
   "id": "1710e71f",
   "metadata": {},
   "outputs": [],
   "source": [
    "def compute_length_n(n: int, allowed_edges: List[Tuple[int, int]]):\n",
    "    global indent\n",
    "    indent = 0\n",
    "    target_cc_list = (tuple(range(1, n + 1)),)\n",
    "\n",
    "    dp = compute_dp(n, allowed_edges)\n",
    "    perm_n = Permutations(n)\n",
    "    result = {perm: dp[(perm.rank(), target_cc_list)] for perm in perm_n}\n",
    "    return result, dp"
   ]
  },
  {
   "attachments": {},
   "cell_type": "markdown",
   "id": "5d8ee0d3",
   "metadata": {},
   "source": [
    "For verifying star transpositions"
   ]
  },
  {
   "cell_type": "code",
   "execution_count": 110,
   "id": "58acdd19",
   "metadata": {},
   "outputs": [],
   "source": [
    "from functools import reduce\n",
    "from operator import mul\n",
    "\n",
    "def star_count(perm: List[int]):\n",
    "    \"\"\"Return the number of minimal transitive star factorizations of perm.\"\"\"\n",
    "    perm = Permutation(perm)\n",
    "    cycles = perm.to_cycles()\n",
    "    cycle_lengths = [len(cycle) for cycle in cycles]\n",
    "    n = len(perm)\n",
    "    m = len(cycles)\n",
    "    return factorial(n + m - 2) / factorial(n) * reduce(mul, cycle_lengths)"
   ]
  },
  {
   "cell_type": "code",
   "execution_count": 119,
   "id": "e48fab7e",
   "metadata": {},
   "outputs": [],
   "source": [
    "def main(n: int, allowed_edges: Tuple[Tuple[int, int], ...]):\n",
    "    if not validate_edges(n, allowed_edges):\n",
    "        return\n",
    "    results = compute_length_n(n, allowed_edges)[0]\n",
    "\n",
    "    # Output to file\n",
    "    # filename = 'output.txt'\n",
    "    # with open(filename, 'w', encoding='utf-8') as file:\n",
    "    #     for perm, (min_length, count) in results.items():\n",
    "    #         file.write(f\"{perm}: {count} (len {min_length})\\n\")\n",
    "\n",
    "    # Output to stdout\n",
    "    for perm, (min_length, count) in results.items():\n",
    "        print(f\"{perm}: {count} (len {min_length})\")\n",
    "        # For star transpositions:\n",
    "        # expected = star_count(perm)\n",
    "        # if count != expected:\n",
    "        #     print(f\">>>>>> WARNING: expected {expected}, actual = {count}\")\n",
    "        "
   ]
  },
  {
   "cell_type": "code",
   "execution_count": 121,
   "id": "f87d77d3",
   "metadata": {},
   "outputs": [
    {
     "name": "stdout",
     "output_type": "stream",
     "text": [
      "[1, 2, 3]: 4 (len 4)\n",
      "[1, 3, 2]: 2 (len 3)\n",
      "[2, 1, 3]: 2 (len 3)\n",
      "[2, 3, 1]: 1 (len 2)\n",
      "[3, 1, 2]: 1 (len 2)\n",
      "[3, 2, 1]: 2 (len 3)\n"
     ]
    }
   ],
   "source": [
    "n = 3\n",
    "test_allowed_pairs = [(1, 2), (2, 3)]\n",
    "main(n, test_allowed_pairs)"
   ]
  }
 ],
 "metadata": {
  "kernelspec": {
   "display_name": "SageMath 9.5",
   "language": "sage",
   "name": "sagemath"
  },
  "language_info": {
   "codemirror_mode": {
    "name": "ipython",
    "version": 3
   },
   "file_extension": ".py",
   "mimetype": "text/x-python",
   "name": "python",
   "nbconvert_exporter": "python",
   "pygments_lexer": "ipython3",
   "version": "3.10.6"
  }
 },
 "nbformat": 4,
 "nbformat_minor": 5
}
